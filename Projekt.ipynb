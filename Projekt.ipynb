{
 "cells": [
  {
   "cell_type": "markdown",
   "id": "4d47a803",
   "metadata": {},
   "source": [
    "# Detekcija i klasifikacija prometnih znakova na fotografijama iz prometa\n",
    "\n",
    "Autor: *Vito Sabalić*"
   ]
  },
  {
   "cell_type": "code",
   "execution_count": 2,
   "id": "fc0d8ac2",
   "metadata": {},
   "outputs": [],
   "source": [
    "import numpy as np\n",
    "import pandas as pd\n",
    "import matplotlib.pyplot as plt\n",
    "import tensorflow as tf\n",
    "from PIL import Image\n",
    "import os"
   ]
  },
  {
   "cell_type": "markdown",
   "id": "d203032b",
   "metadata": {},
   "source": [
    "## 0. Prikaz podataka"
   ]
  },
  {
   "cell_type": "code",
   "execution_count": 3,
   "id": "cde5e8b2",
   "metadata": {},
   "outputs": [],
   "source": [
    "signnames = pd.read_csv(\"Dataset/signnames.csv\")\n",
    "meta = pd.read_csv(\"Dataset/Meta.csv\")\n",
    "meta = meta.sort_values(by=[\"ClassId\"])"
   ]
  },
  {
   "cell_type": "code",
   "execution_count": 33,
   "id": "b74098df",
   "metadata": {
    "scrolled": true
   },
   "outputs": [
    {
     "name": "stdout",
     "output_type": "stream",
     "text": [
      "0: Speed limit (20km/h)\n"
     ]
    },
    {
     "data": {
      "image/png": "[encoded data removed]",
      "text/plain": [
       "<PIL.Image.Image image mode=RGBA size=30x30 at 0x18D613811F0>"
      ]
     },
     "metadata": {},
     "output_type": "display_data"
    },
    {
     "name": "stdout",
     "output_type": "stream",
     "text": [
      "1: Speed limit (30km/h)\n"
     ]
    },
    {
     "data": {
      "image/png": "[encoded data removed]",
      "text/plain": [
       "<PIL.Image.Image image mode=RGBA size=30x30 at 0x18D613811F0>"
      ]
     },
     "metadata": {},
     "output_type": "display_data"
    },
    {
     "name": "stdout",
     "output_type": "stream",
     "text": [
      "2: Speed limit (50km/h)\n"
     ]
    },
    {
     "data": {
      "image/png": "[encoded data removed]",
      "text/plain": [
       "<PIL.Image.Image image mode=RGBA size=30x30 at 0x18D613811F0>"
      ]
     },
     "metadata": {},
     "output_type": "display_data"
    },
    {
     "name": "stdout",
     "output_type": "stream",
     "text": [
      "3: Speed limit (60km/h)\n"
     ]
    },
    {
     "data": {
      "image/png": "[encoded data removed]",
      "text/plain": [
       "<PIL.Image.Image image mode=RGBA size=30x30 at 0x18D613811F0>"
      ]
     },
     "metadata": {},
     "output_type": "display_data"
    },
    {
     "name": "stdout",
     "output_type": "stream",
     "text": [
      "4: Speed limit (70km/h)\n"
     ]
    },
    {
     "data": {
      "image/png": "[encoded data removed]",
      "text/plain": [
       "<PIL.Image.Image image mode=RGBA size=30x30 at 0x18D61365550>"
      ]
     },
     "metadata": {},
     "output_type": "display_data"
    },
    {
     "name": "stdout",
     "output_type": "stream",
     "text": [
      "5: Speed limit (80km/h)\n"
     ]
    },
    {
     "data": {
      "image/png": "[encoded data removed]",
      "text/plain": [
       "<PIL.Image.Image image mode=RGBA size=30x30 at 0x18D61381880>"
      ]
     },
     "metadata": {},
     "output_type": "display_data"
    },
    {
     "name": "stdout",
     "output_type": "stream",
     "text": [
      "6: End of speed limit (80km/h)\n"
     ]
    },
    {
     "data": {
      "image/png": "[encoded data removed]",
      "text/plain": [
       "<PIL.Image.Image image mode=RGBA size=30x30 at 0x18D61ECC9A0>"
      ]
     },
     "metadata": {},
     "output_type": "display_data"
    },
    {
     "name": "stdout",
     "output_type": "stream",
     "text": [
      "7: Speed limit (100km/h)\n"
     ]
    },
    {
     "data": {
      "image/png": "[encoded data removed]",
      "text/plain": [
       "<PIL.Image.Image image mode=RGBA size=30x30 at 0x18D61ECC400>"
      ]
     },
     "metadata": {},
     "output_type": "display_data"
    },
    {
     "name": "stdout",
     "output_type": "stream",
     "text": [
      "8: Speed limit (120km/h)\n"
     ]
    },
    {
     "data": {
      "image/png": "[encoded data removed]",
      "text/plain": [
       "<PIL.Image.Image image mode=RGBA size=30x30 at 0x18D61381880>"
      ]
     },
     "metadata": {},
     "output_type": "display_data"
    },
    {
     "name": "stdout",
     "output_type": "stream",
     "text": [
      "9: No passing\n"
     ]
    },
    {
     "data": {
      "image/png": "[encoded data removed]",
      "text/plain": [
       "<PIL.Image.Image image mode=RGBA size=30x30 at 0x18D61381880>"
      ]
     },
     "metadata": {},
     "output_type": "display_data"
    },
    {
     "name": "stdout",
     "output_type": "stream",
     "text": [
      "10: No passing for vehicles over 3.5 metric tons\n"
     ]
    },
    {
     "data": {
      "image/png": "[encoded data removed]",
      "text/plain": [
       "<PIL.Image.Image image mode=RGBA size=30x30 at 0x18D61381880>"
      ]
     },
     "metadata": {},
     "output_type": "display_data"
    },
    {
     "name": "stdout",
     "output_type": "stream",
     "text": [
      "11: Right-of-way at the next intersection\n"
     ]
    },
    {
     "data": {
      "image/png": "[encoded data removed]",
      "text/plain": [
       "<PIL.Image.Image image mode=RGBA size=30x30 at 0x18D61381880>"
      ]
     },
     "metadata": {},
     "output_type": "display_data"
    },
    {
     "name": "stdout",
     "output_type": "stream",
     "text": [
      "12: Priority road\n"
     ]
    },
    {
     "data": {
      "image/png": "[encoded data removed]",
      "text/plain": [
       "<PIL.Image.Image image mode=RGBA size=30x30 at 0x18D61381880>"
      ]
     },
     "metadata": {},
     "output_type": "display_data"
    },
    {
     "name": "stdout",
     "output_type": "stream",
     "text": [
      "13: Yield\n"
     ]
    },
    {
     "data": {
      "image/png": "[encoded data removed]",
      "text/plain": [
       "<PIL.Image.Image image mode=RGBA size=30x30 at 0x18D61381880>"
      ]
     },
     "metadata": {},
     "output_type": "display_data"
    },
    {
     "name": "stdout",
     "output_type": "stream",
     "text": [
      "14: Stop\n"
     ]
    },
    {
     "data": {
      "image/png": "[encoded data removed]",
      "text/plain": [
       "<PIL.Image.Image image mode=RGBA size=30x30 at 0x18D61381880>"
      ]
     },
     "metadata": {},
     "output_type": "display_data"
    },
    {
     "name": "stdout",
     "output_type": "stream",
     "text": [
      "15: No vehicles\n"
     ]
    },
    {
     "data": {
      "image/png": "[encoded data removed]",
      "text/plain": [
       "<PIL.Image.Image image mode=RGBA size=30x30 at 0x18D61381880>"
      ]
     },
     "metadata": {},
     "output_type": "display_data"
    },
    {
     "name": "stdout",
     "output_type": "stream",
     "text": [
      "16: Vehicles over 3.5 metric tons prohibited\n"
     ]
    },
    {
     "data": {
      "image/png": "[encoded data removed]",
      "text/plain": [
       "<PIL.Image.Image image mode=RGBA size=30x30 at 0x18D61381880>"
      ]
     },
     "metadata": {},
     "output_type": "display_data"
    },
    {
     "name": "stdout",
     "output_type": "stream",
     "text": [
      "17: No entry\n"
     ]
    },
    {
     "data": {
      "image/png": "[encoded data removed]",
      "text/plain": [
       "<PIL.Image.Image image mode=RGBA size=30x30 at 0x18D61ECCA30>"
      ]
     },
     "metadata": {},
     "output_type": "display_data"
    },
    {
     "name": "stdout",
     "output_type": "stream",
     "text": [
      "18: General caution\n"
     ]
    },
    {
     "data": {
      "image/png": "[encoded data removed]",
      "text/plain": [
       "<PIL.Image.Image image mode=RGBA size=30x30 at 0x18D61ECC9A0>"
      ]
     },
     "metadata": {},
     "output_type": "display_data"
    },
    {
     "name": "stdout",
     "output_type": "stream",
     "text": [
      "19: Dangerous curve to the left\n"
     ]
    },
    {
     "data": {
      "image/png": "[encoded data removed]",
      "text/plain": [
       "<PIL.Image.Image image mode=RGBA size=30x30 at 0x18D61ECCC70>"
      ]
     },
     "metadata": {},
     "output_type": "display_data"
    },
    {
     "name": "stdout",
     "output_type": "stream",
     "text": [
      "20: Dangerous curve to the right\n"
     ]
    },
    {
     "data": {
      "image/png": "[encoded data removed]",
      "text/plain": [
       "<PIL.Image.Image image mode=RGBA size=30x30 at 0x18D613811F0>"
      ]
     },
     "metadata": {},
     "output_type": "display_data"
    },
    {
     "name": "stdout",
     "output_type": "stream",
     "text": [
      "21: Double curve\n"
     ]
    },
    {
     "data": {
      "image/png": "[encoded data removed]",
      "text/plain": [
       "<PIL.Image.Image image mode=RGBA size=30x30 at 0x18D61381490>"
      ]
     },
     "metadata": {},
     "output_type": "display_data"
    },
    {
     "name": "stdout",
     "output_type": "stream",
     "text": [
      "22: Bumpy road\n"
     ]
    },
    {
     "data": {
      "image/png": "[encoded data removed]",
      "text/plain": [
       "<PIL.Image.Image image mode=RGBA size=30x30 at 0x18D61381490>"
      ]
     },
     "metadata": {},
     "output_type": "display_data"
    },
    {
     "name": "stdout",
     "output_type": "stream",
     "text": [
      "23: Slippery road\n"
     ]
    },
    {
     "data": {
      "image/png": "[encoded data removed]",
      "text/plain": [
       "<PIL.Image.Image image mode=RGBA size=30x30 at 0x18D61381490>"
      ]
     },
     "metadata": {},
     "output_type": "display_data"
    },
    {
     "name": "stdout",
     "output_type": "stream",
     "text": [
      "24: Road narrows on the right\n"
     ]
    },
    {
     "data": {
      "image/png": "[encoded data removed]",
      "text/plain": [
       "<PIL.Image.Image image mode=RGBA size=30x30 at 0x18D61ECCE80>"
      ]
     },
     "metadata": {},
     "output_type": "display_data"
    },
    {
     "name": "stdout",
     "output_type": "stream",
     "text": [
      "25: Road work\n"
     ]
    },
    {
     "data": {
      "image/png": "[encoded data removed]",
      "text/plain": [
       "<PIL.Image.Image image mode=RGBA size=30x30 at 0x18D61ECCC70>"
      ]
     },
     "metadata": {},
     "output_type": "display_data"
    },
    {
     "name": "stdout",
     "output_type": "stream",
     "text": [
      "26: Traffic signals\n"
     ]
    },
    {
     "data": {
      "image/png": "[encoded data removed]",
      "text/plain": [
       "<PIL.Image.Image image mode=RGBA size=30x30 at 0x18D61ECC9A0>"
      ]
     },
     "metadata": {},
     "output_type": "display_data"
    },
    {
     "name": "stdout",
     "output_type": "stream",
     "text": [
      "27: Pedestrians\n"
     ]
    },
    {
     "data": {
      "image/png": "[encoded data removed]",
      "text/plain": [
       "<PIL.Image.Image image mode=RGBA size=30x30 at 0x18D61ECCE80>"
      ]
     },
     "metadata": {},
     "output_type": "display_data"
    },
    {
     "name": "stdout",
     "output_type": "stream",
     "text": [
      "28: Children crossing\n"
     ]
    },
    {
     "data": {
      "image/png": "[encoded data removed]",
      "text/plain": [
       "<PIL.Image.Image image mode=RGBA size=30x30 at 0x18D61ECCC10>"
      ]
     },
     "metadata": {},
     "output_type": "display_data"
    },
    {
     "name": "stdout",
     "output_type": "stream",
     "text": [
      "29: Bicycles crossing\n"
     ]
    },
    {
     "data": {
      "image/png": "[encoded data removed]",
      "text/plain": [
       "<PIL.Image.Image image mode=RGBA size=30x30 at 0x18D61ECCC70>"
      ]
     },
     "metadata": {},
     "output_type": "display_data"
    },
    {
     "name": "stdout",
     "output_type": "stream",
     "text": [
      "30: Beware of ice/snow\n"
     ]
    },
    {
     "data": {
      "image/png": "[encoded data removed]",
      "text/plain": [
       "<PIL.Image.Image image mode=RGBA size=30x30 at 0x18D61ECC9A0>"
      ]
     },
     "metadata": {},
     "output_type": "display_data"
    },
    {
     "name": "stdout",
     "output_type": "stream",
     "text": [
      "31: Wild animals crossing\n"
     ]
    },
    {
     "data": {
      "image/png": "[encoded data removed]",
      "text/plain": [
       "<PIL.Image.Image image mode=RGBA size=30x30 at 0x18D61ECCE80>"
      ]
     },
     "metadata": {},
     "output_type": "display_data"
    },
    {
     "name": "stdout",
     "output_type": "stream",
     "text": [
      "32: End of all speed and passing limits\n"
     ]
    },
    {
     "data": {
      "image/png": "[encoded data removed]",
      "text/plain": [
       "<PIL.Image.Image image mode=RGBA size=30x30 at 0x18D61ECCA30>"
      ]
     },
     "metadata": {},
     "output_type": "display_data"
    },
    {
     "name": "stdout",
     "output_type": "stream",
     "text": [
      "33: Turn right ahead\n"
     ]
    },
    {
     "data": {
      "image/png": "[encoded data removed]",
      "text/plain": [
       "<PIL.Image.Image image mode=RGBA size=30x30 at 0x18D6139A520>"
      ]
     },
     "metadata": {},
     "output_type": "display_data"
    },
    {
     "name": "stdout",
     "output_type": "stream",
     "text": [
      "34: Turn left ahead\n"
     ]
    },
    {
     "data": {
      "image/png": "[encoded data removed]",
      "text/plain": [
       "<PIL.Image.Image image mode=RGBA size=30x30 at 0x18D61ECCC10>"
      ]
     },
     "metadata": {},
     "output_type": "display_data"
    },
    {
     "name": "stdout",
     "output_type": "stream",
     "text": [
      "35: Ahead only\n"
     ]
    },
    {
     "data": {
      "image/png": "[encoded data removed]",
      "text/plain": [
       "<PIL.Image.Image image mode=RGBA size=30x30 at 0x18D61ECC9A0>"
      ]
     },
     "metadata": {},
     "output_type": "display_data"
    },
    {
     "name": "stdout",
     "output_type": "stream",
     "text": [
      "36: Go straight or right\n"
     ]
    },
    {
     "data": {
      "image/png": "[encoded data removed]",
      "text/plain": [
       "<PIL.Image.Image image mode=RGBA size=30x30 at 0x18D61ECCC10>"
      ]
     },
     "metadata": {},
     "output_type": "display_data"
    },
    {
     "name": "stdout",
     "output_type": "stream",
     "text": [
      "37: Go straight or left\n"
     ]
    },
    {
     "data": {
      "image/png": "[encoded data removed]",
      "text/plain": [
       "<PIL.Image.Image image mode=RGBA size=30x30 at 0x18D61ECCC70>"
      ]
     },
     "metadata": {},
     "output_type": "display_data"
    },
    {
     "name": "stdout",
     "output_type": "stream",
     "text": [
      "38: Keep right\n"
     ]
    },
    {
     "data": {
      "image/png": "[encoded data removed]",
      "text/plain": [
       "<PIL.Image.Image image mode=RGBA size=30x30 at 0x18D61ECC9A0>"
      ]
     },
     "metadata": {},
     "output_type": "display_data"
    },
    {
     "name": "stdout",
     "output_type": "stream",
     "text": [
      "39: Keep left\n"
     ]
    },
    {
     "data": {
      "image/png": "[encoded data removed]",
      "text/plain": [
       "<PIL.Image.Image image mode=RGBA size=30x30 at 0x18D61ECC400>"
      ]
     },
     "metadata": {},
     "output_type": "display_data"
    },
    {
     "name": "stdout",
     "output_type": "stream",
     "text": [
      "40: Roundabout mandatory\n"
     ]
    },
    {
     "data": {
      "image/png": "[encoded data removed]",
      "text/plain": [
       "<PIL.Image.Image image mode=RGBA size=30x30 at 0x18D61ECCC10>"
      ]
     },
     "metadata": {},
     "output_type": "display_data"
    },
    {
     "name": "stdout",
     "output_type": "stream",
     "text": [
      "41: End of no passing\n"
     ]
    },
    {
     "data": {
      "image/png": "[encoded data removed]",
      "text/plain": [
       "<PIL.Image.Image image mode=RGBA size=30x30 at 0x18D61ECCC70>"
      ]
     },
     "metadata": {},
     "output_type": "display_data"
    },
    {
     "name": "stdout",
     "output_type": "stream",
     "text": [
      "42: End of no passing by vehicles over 3.5 metric tons\n"
     ]
    },
    {
     "data": {
      "image/png": "[encoded data removed]",
      "text/plain": [
       "<PIL.Image.Image image mode=RGBA size=30x30 at 0x18D61ECCA30>"
      ]
     },
     "metadata": {},
     "output_type": "display_data"
    }
   ],
   "source": [
    "names = signnames[\"SignName\"].values\n",
    "images = meta[\"Path\"].values \n",
    "\n",
    "for i in range(len(images)):\n",
    "    image = Image.open(\"Dataset/\" + images[i])\n",
    "    image = image.resize((30, 30))\n",
    "    print(\"{0}: {1}\".format(i, names[i]))\n",
    "    display(image)"
   ]
  },
  {
   "cell_type": "markdown",
   "id": "a5e5a9ec",
   "metadata": {},
   "source": [
    "## 1. Učitavanje podataka za treniranje modela"
   ]
  },
  {
   "cell_type": "code",
   "execution_count": 3,
   "id": "7494fcb8",
   "metadata": {},
   "outputs": [],
   "source": [
    "cur_path = os.getcwd() + \"\\\\Dataset\" \n",
    "path = os.path.join(cur_path, 'train', str(2))\n",
    "images = os.listdir(path)\n",
    "\n",
    "image = Image.open(path + \"\\\\\" + images[17])\n",
    "image = image.resize((30, 30))\n",
    "image = np.array(image)"
   ]
  },
  {
   "cell_type": "code",
   "execution_count": 4,
   "id": "b92faf84",
   "metadata": {},
   "outputs": [],
   "source": [
    "data = []\n",
    "labels = []\n",
    "classes = 43 \n",
    "cur_path = os.getcwd() + \"\\\\Dataset\" \n",
    "for i in range(classes):\n",
    "    path = os.path.join(cur_path, 'train', str(i))\n",
    "    images = os.listdir(path)\n",
    "    labelData = []\n",
    "    for a in images:\n",
    "        try:\n",
    "            image = Image.open(path  + '\\\\' + a)\n",
    "            image = image.resize((30,30))\n",
    "            image = np.array(image)\n",
    "            data.append(image)\n",
    "            labels.append(i)\n",
    "        except:\n",
    "            print(\"Error loading image\")\n",
    "            \n",
    "data = np.array(data)\n",
    "labels = np.array(labels)"
   ]
  },
  {
   "cell_type": "code",
   "execution_count": 5,
   "id": "f7922f97",
   "metadata": {},
   "outputs": [
    {
     "name": "stdout",
     "output_type": "stream",
     "text": [
      "(39209, 30, 30, 3) (39209,)\n"
     ]
    }
   ],
   "source": [
    "print(data.shape, labels.shape)"
   ]
  },
  {
   "cell_type": "markdown",
   "id": "846bdf40",
   "metadata": {},
   "source": [
    "## 2. Stvaranje i treniranje modela"
   ]
  },
  {
   "cell_type": "code",
   "execution_count": 23,
   "id": "79f35dd9",
   "metadata": {},
   "outputs": [],
   "source": [
    "from keras.models import Sequential\n",
    "from keras.layers import Conv2D, MaxPool2D, Dense, Flatten, Dropout"
   ]
  },
  {
   "cell_type": "code",
   "execution_count": 24,
   "id": "92fa9492",
   "metadata": {},
   "outputs": [],
   "source": [
    "model = Sequential()\n",
    "\n",
    "model.add(Conv2D(filters=32, kernel_size=(5,5), activation='relu', input_shape=X_train.shape[1:]))\n",
    "model.add(Conv2D(filters=32, kernel_size=(5,5), activation='relu'))\n",
    "model.add(MaxPool2D(pool_size=(2,2)))\n",
    "model.add(Dropout(rate=0.25))\n",
    "\n",
    "model.add(Conv2D(filters=64, kernel_size=(3,3), activation='relu'))\n",
    "model.add(Conv2D(filters=64, kernel_size=(3,3), activation='relu'))\n",
    "model.add(MaxPool2D(pool_size=(2,2)))\n",
    "model.add(Dropout(rate=0.25))\n",
    "\n",
    "model.add(Flatten())\n",
    "\n",
    "model.add(Dense(256, activation='relu'))\n",
    "model.add(Dropout(rate=0.5))\n",
    "model.add(Dense(43, activation='softmax'))"
   ]
  },
  {
   "cell_type": "code",
   "execution_count": 25,
   "id": "0963e9c0",
   "metadata": {},
   "outputs": [],
   "source": [
    "model.compile(loss='categorical_crossentropy', optimizer='adam', metrics=['accuracy'])"
   ]
  },
  {
   "cell_type": "code",
   "execution_count": 26,
   "id": "6a62b7d6",
   "metadata": {},
   "outputs": [],
   "source": [
    "from sklearn.model_selection import train_test_split\n",
    "from keras.utils import to_categorical"
   ]
  },
  {
   "cell_type": "code",
   "execution_count": 27,
   "id": "f17d3385",
   "metadata": {},
   "outputs": [],
   "source": [
    "X_train, X_test, y_train, y_test = train_test_split(data, labels, test_size=0.2, random_state=42)\n",
    "y_train = to_categorical(y_train, 43)\n",
    "y_test = to_categorical(y_test, 43)"
   ]
  },
  {
   "cell_type": "code",
   "execution_count": 28,
   "id": "5a313d62",
   "metadata": {},
   "outputs": [
    {
     "data": {
      "text/plain": [
       "((31367, 30, 30, 3), (7842, 30, 30, 3), (31367, 43), (7842, 43))"
      ]
     },
     "execution_count": 28,
     "metadata": {},
     "output_type": "execute_result"
    }
   ],
   "source": [
    "X_train.shape, X_test.shape, y_train.shape, y_test.shape"
   ]
  },
  {
   "cell_type": "code",
   "execution_count": 29,
   "id": "e66d0061",
   "metadata": {},
   "outputs": [
    {
     "name": "stdout",
     "output_type": "stream",
     "text": [
      "Epoch 1/15\n",
      "981/981 [==============================] - 94s 95ms/step - loss: 1.7612 - accuracy: 0.5506 - val_loss: 0.3603 - val_accuracy: 0.9271\n",
      "Epoch 2/15\n",
      "981/981 [==============================] - 93s 94ms/step - loss: 0.4740 - accuracy: 0.8689 - val_loss: 0.1021 - val_accuracy: 0.9749\n",
      "Epoch 3/15\n",
      "981/981 [==============================] - 98s 100ms/step - loss: 0.3264 - accuracy: 0.9108 - val_loss: 0.0897 - val_accuracy: 0.9755\n",
      "Epoch 4/15\n",
      "981/981 [==============================] - 74s 76ms/step - loss: 0.2671 - accuracy: 0.9295 - val_loss: 0.0684 - val_accuracy: 0.9825\n",
      "Epoch 5/15\n",
      "981/981 [==============================] - 79s 80ms/step - loss: 0.2283 - accuracy: 0.9407 - val_loss: 0.0782 - val_accuracy: 0.9783\n",
      "Epoch 6/15\n",
      "981/981 [==============================] - 92s 94ms/step - loss: 0.2351 - accuracy: 0.9416 - val_loss: 0.0766 - val_accuracy: 0.9796\n",
      "Epoch 7/15\n",
      "981/981 [==============================] - 76s 77ms/step - loss: 0.2395 - accuracy: 0.9402 - val_loss: 0.0656 - val_accuracy: 0.9827\n",
      "Epoch 8/15\n",
      "981/981 [==============================] - 81s 83ms/step - loss: 0.2269 - accuracy: 0.9450 - val_loss: 0.0621 - val_accuracy: 0.9857\n",
      "Epoch 9/15\n",
      "981/981 [==============================] - 78s 79ms/step - loss: 0.2097 - accuracy: 0.9473 - val_loss: 0.0642 - val_accuracy: 0.9838\n",
      "Epoch 10/15\n",
      "981/981 [==============================] - 73s 74ms/step - loss: 0.2136 - accuracy: 0.9482 - val_loss: 0.0573 - val_accuracy: 0.9848\n",
      "Epoch 11/15\n",
      "981/981 [==============================] - 77s 78ms/step - loss: 0.2094 - accuracy: 0.9491 - val_loss: 0.0664 - val_accuracy: 0.9828\n",
      "Epoch 12/15\n",
      "981/981 [==============================] - 113s 115ms/step - loss: 0.2044 - accuracy: 0.9528 - val_loss: 0.0477 - val_accuracy: 0.9895\n",
      "Epoch 13/15\n",
      "981/981 [==============================] - 94s 96ms/step - loss: 0.2116 - accuracy: 0.9515 - val_loss: 0.0584 - val_accuracy: 0.9842\n",
      "Epoch 14/15\n",
      "981/981 [==============================] - 94s 96ms/step - loss: 0.2469 - accuracy: 0.9442 - val_loss: 0.0800 - val_accuracy: 0.9795\n",
      "Epoch 15/15\n",
      "981/981 [==============================] - 93s 95ms/step - loss: 0.2509 - accuracy: 0.9451 - val_loss: 0.0492 - val_accuracy: 0.9874\n"
     ]
    }
   ],
   "source": [
    "eps = 15\n",
    "cnn = model.fit(X_train, y_train, batch_size=32, epochs=eps, validation_data=(X_test, y_test))"
   ]
  },
  {
   "cell_type": "code",
   "execution_count": 30,
   "id": "8f7a81b6",
   "metadata": {},
   "outputs": [],
   "source": [
    "model.save(\"Projekt_model.h5\")"
   ]
  },
  {
   "cell_type": "markdown",
   "id": "3dfe4be3",
   "metadata": {},
   "source": [
    "## 3. Testiranje modela"
   ]
  },
  {
   "cell_type": "code",
   "execution_count": 4,
   "id": "920252ec",
   "metadata": {},
   "outputs": [],
   "source": [
    "dataset = pd.read_csv(\"Dataset/Test.csv\")"
   ]
  },
  {
   "cell_type": "code",
   "execution_count": 5,
   "id": "db7639fd",
   "metadata": {
    "scrolled": true
   },
   "outputs": [],
   "source": [
    "y_true = dataset[\"ClassId\"].values\n",
    "images = dataset[\"Path\"].values\n",
    "\n",
    "data = []\n",
    "for imPath in images:\n",
    "    path = \"Dataset\\\\\" + imPath\n",
    "    image = Image.open(path)\n",
    "    image = image.resize((30, 30))\n",
    "    data.append(np.array(image))\n",
    "\n",
    "X_test = np.array(data)"
   ]
  },
  {
   "cell_type": "code",
   "execution_count": 6,
   "id": "a6fa85ed",
   "metadata": {},
   "outputs": [
    {
     "data": {
      "text/plain": [
       "(12630, 30, 30, 3)"
      ]
     },
     "execution_count": 6,
     "metadata": {},
     "output_type": "execute_result"
    }
   ],
   "source": [
    "X_test.shape"
   ]
  },
  {
   "cell_type": "code",
   "execution_count": 7,
   "id": "a0bf3d4c",
   "metadata": {},
   "outputs": [
    {
     "name": "stdout",
     "output_type": "stream",
     "text": [
      "395/395 [==============================] - 4s 9ms/step\n"
     ]
    }
   ],
   "source": [
    "from keras.models import load_model\n",
    "\n",
    "trained_model = load_model(\"Projekt_model.h5\")\n",
    "y_pred = np.argmax(trained_model.predict(X_test), axis=1)"
   ]
  },
  {
   "cell_type": "code",
   "execution_count": 8,
   "id": "e8ba237a",
   "metadata": {},
   "outputs": [
    {
     "name": "stdout",
     "output_type": "stream",
     "text": [
      "Accuracy score:  0.9555819477434679\n"
     ]
    }
   ],
   "source": [
    "from sklearn.metrics import accuracy_score\n",
    "\n",
    "print(\"Accuracy score: \", accuracy_score(y_pred, y_true))"
   ]
  },
  {
   "cell_type": "markdown",
   "id": "6b3c02a9",
   "metadata": {},
   "source": [
    "## 4. Klasifikacija ručno izabrane slike"
   ]
  },
  {
   "cell_type": "code",
   "execution_count": 10,
   "id": "84ae7a47",
   "metadata": {},
   "outputs": [],
   "source": [
    "dataset = pd.read_csv(\"Dataset/Test.csv\")\n",
    "images = dataset[\"Path\"].values\n",
    "labels = dataset[\"ClassId\"].values"
   ]
  },
  {
   "cell_type": "code",
   "execution_count": 14,
   "id": "e4fcb93a",
   "metadata": {},
   "outputs": [
    {
     "name": "stdout",
     "output_type": "stream",
     "text": [
      "Class:  30\n",
      "Name: Beware of ice/snow\n"
     ]
    },
    {
     "data": {
      "image/png": "[encoded data removed]",
      "text/plain": [
       "<PIL.PngImagePlugin.PngImageFile image mode=RGB size=87x76 at 0x19E07413B80>"
      ]
     },
     "metadata": {},
     "output_type": "display_data"
    },
    {
     "name": "stdout",
     "output_type": "stream",
     "text": [
      "Predicted class:  29\n",
      "Name:  Bicycles crossing\n"
     ]
    },
    {
     "data": {
      "image/png": "[encoded data removed]",
      "text/plain": [
       "<PIL.PngImagePlugin.PngImageFile image mode=RGBA size=100x88 at 0x19E0740EC70>"
      ]
     },
     "metadata": {},
     "output_type": "display_data"
    }
   ],
   "source": [
    "image_index = 443    ##izabrati bilo koji izmedu [0, 12630> za provjeru\n",
    "\n",
    "image = Image.open(\"Dataset/\" + images[image_index])\n",
    "print(\"Class: \", labels[image_index])\n",
    "print(\"Name:\", signnames[\"SignName\"].values[labels[image_index]])\n",
    "display(image)\n",
    "\n",
    "image = image.resize((30, 30))\n",
    "x = np.array([np.array(image)])\n",
    "\n",
    "y = np.argmax(trained_model.predict(x, verbose=False), axis=1)[0]\n",
    "print(\"Predicted class: \", y)\n",
    "print(\"Name: \", signnames[\"SignName\"].values[y])\n",
    "display(Image.open(\"Dataset/\" + meta[\"Path\"].values[y]))"
   ]
  },
  {
   "cell_type": "markdown",
   "id": "5ab74e47",
   "metadata": {},
   "source": [
    "## 5. Klasifikacija nasumično odabrane slike"
   ]
  },
  {
   "cell_type": "code",
   "execution_count": 15,
   "id": "cf0e02df",
   "metadata": {},
   "outputs": [],
   "source": [
    "dataset = pd.read_csv(\"Dataset/Test.csv\")\n",
    "images = dataset[\"Path\"].values\n",
    "labels = dataset[\"ClassId\"].values\n",
    "\n",
    "signnames = pd.read_csv(\"Dataset/signnames.csv\")\n",
    "meta = pd.read_csv(\"Dataset/Meta.csv\").sort_values(by=[\"ClassId\"])"
   ]
  },
  {
   "cell_type": "code",
   "execution_count": 25,
   "id": "d62fe8fb",
   "metadata": {},
   "outputs": [
    {
     "name": "stdout",
     "output_type": "stream",
     "text": [
      "Class:  3\n",
      "Name: Speed limit (60km/h)\n"
     ]
    },
    {
     "data": {
      "image/png": "[encoded data removed]",
      "text/plain": [
       "<PIL.PngImagePlugin.PngImageFile image mode=RGB size=27x28 at 0x19E0E851580>"
      ]
     },
     "metadata": {},
     "output_type": "display_data"
    },
    {
     "name": "stdout",
     "output_type": "stream",
     "text": [
      "Predicted class:  5\n",
      "Name:  Speed limit (80km/h)\n"
     ]
    },
    {
     "data": {
      "image/png": "[encoded data removed]",
      "text/plain": [
       "<PIL.PngImagePlugin.PngImageFile image mode=RGBA size=100x100 at 0x19E0E9F8790>"
      ]
     },
     "metadata": {},
     "output_type": "display_data"
    }
   ],
   "source": [
    "rng = np.random.default_rng()\n",
    "image_index = rng.integers(low=0, high=12630)          ##nasumicno izmedu 12630\n",
    "\n",
    "image = Image.open(\"Dataset/\" + images[image_index])\n",
    "print(\"Class: \", labels[image_index])\n",
    "print(\"Name:\", signnames[\"SignName\"].values[labels[image_index]])\n",
    "display(image)\n",
    "\n",
    "image = image.resize((30, 30))\n",
    "x = np.array([np.array(image)])\n",
    "\n",
    "y = np.argmax(trained_model.predict(x, verbose=False), axis=1)[0]\n",
    "print(\"Predicted class: \", y)\n",
    "print(\"Name: \", signnames[\"SignName\"].values[y])\n",
    "display(Image.open(\"Dataset/\" + meta[\"Path\"].values[y]))"
   ]
  }
 ],
 "metadata": {
  "kernelspec": {
   "display_name": "Python 3 (ipykernel)",
   "language": "python",
   "name": "python3"
  },
  "language_info": {
   "codemirror_mode": {
    "name": "ipython",
    "version": 3
   },
   "file_extension": ".py",
   "mimetype": "text/x-python",
   "name": "python",
   "nbconvert_exporter": "python",
   "pygments_lexer": "ipython3",
   "version": "3.9.0"
  }
 },
 "nbformat": 4,
 "nbformat_minor": 5
}
